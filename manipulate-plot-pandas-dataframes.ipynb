{
 "cells": [
  {
   "cell_type": "markdown",
   "metadata": {},
   "source": [
    "## Methods and Attributes\n",
    "<h3 align=\"right\">jbot</h3>\n",
    "\n",
    "### Methods\n",
    "Previous lessons have introduced the concept of functions as commands that can take inputs that are used to produce output. For example, you have used many functions, including the `print()` function to display the results of your code and to write messages about the results. \n",
    "\n",
    "```python\n",
    "print(\"Message as text string goes here\")\n",
    "```\n",
    "You have also used functions provided by `Python` packages such as `numpy` to run calculations on `numpy arrays`. \n",
    "\n",
    "For example, you used `np.mean()` to calculate the average value of specified `numpy array`. In these `numpy` functions, you explicitly provided the name of the variable as an input parameter.    \n",
    "\n",
    "```python\n",
    "print(\"Mean Value: \", np.mean(arrayname))\n",
    "```\n",
    "\n",
    "In `Python`, data structures, such as `pandas dataframes`, can provide built-in functions that are referred to as methods. Each data structure has its own set of methods, based on how the data is organized and the types of operations supported by the data structure . \n",
    "\n",
    "A method can be called by adding the `.function()` after the name of the data structure (e.g. `structurename.function()`), rather than providing the name as an input parameter (e.g. `function(structurename)`). \n",
    "\n",
    "In this lesson, you will explore some methods that are provided with the `pandas dataframe` data structure. \n",
    "\n",
    "### Attributes\n",
    "\n",
    "In addition to functions, you have also unknowingly worked with attributes, which are automatically created characteristics (i.e. metadata) about the data structure or object that you are working with. \n",
    "\n",
    "For example, you used `.shape` to get the dimensions of a specific `numpy array` (e.g. `arrayname.shape`), which is an attribute that is automatically generated about the `numpy array` when it is created.\n",
    "\n",
    "In this lesson, you will use attributes to get more information about `pandas dataframes` and run functions (i.e. methods) inherent to the `pandas dataframes` data structure to learn about the benefits of working with `pandas dataframes`.\n",
    "\n",
    "\n",
    "## Begin Writing Your Code\n",
    "\n",
    "From previous lessons, you know how to import the necessary `Python` packages to set your working directory and download the needed datasets using the `os` and `urllib` packages. \n",
    "\n",
    "To work with `pandas dataframes`, you will also need to import the `pandas` package with the alias `pd`, and you will need to import the `matplotlib.pyplot` module with the alias `plt` to plot data. Begin by reviewing these tasks.\n",
    "\n",
    "### Import Packages"
   ]
  },
  {
   "cell_type": "code",
   "execution_count": 1,
   "metadata": {},
   "outputs": [
    {
     "name": "stdout",
     "output_type": "stream",
     "text": [
      "import of packages successful\n"
     ]
    }
   ],
   "source": [
    "# import necessary Python packages\n",
    "import os\n",
    "import urllib.request\n",
    "import pandas as pd\n",
    "import matplotlib.pyplot as plt\n",
    "\n",
    "# print message after packages imported successfully\n",
    "print(\"import of packages successful\")"
   ]
  },
  {
   "cell_type": "markdown",
   "metadata": {},
   "source": [
    "### Set Working Directory\n",
    "\n",
    "Remember that you can check the current working directory using `os.getcwd()` and set the current working directory using `os.chdir()`."
   ]
  },
  {
   "cell_type": "code",
   "execution_count": 2,
   "metadata": {},
   "outputs": [
    {
     "data": {
      "text/plain": [
       "'C:\\\\Users\\\\jd\\\\earth-analytics-bootcamp'"
      ]
     },
     "execution_count": 2,
     "metadata": {},
     "output_type": "execute_result"
    }
   ],
   "source": [
    "# set the working directory to the `earth-analytics-bootcamp` directory\n",
    "# replace `jpalomino` with your username here and all paths in this lesson\n",
    "os.chdir(\"C:/Users/jd/earth-analytics-bootcamp/\")\n",
    "\n",
    "#For Windows users, you may have to set the directory using the full path that Windows maintains for your user. For example:\n",
    "#os.chdir(\"C:/Users/Jenny Palomino/earth-analytics-bootcamp/\")\n",
    "\n",
    "#For Mac Users, you may have to set the directory using the full path that Mac maintains for your user. For example:\n",
    "#os.chdir(\"/Users/jpalomino/earth-analytics-bootcamp/\")\n",
    "\n",
    "# print the current working directory\n",
    "os.getcwd()"
   ]
  },
  {
   "cell_type": "markdown",
   "metadata": {},
   "source": [
    "### Download Data\n",
    "\n",
    "Recall that you can use the `urllib` package to download data from the Earth Lab `Figshare.com` repository.\n",
    "\n",
    "For this lesson, you will download a .csv file containing the average monthly precipitation data for Boulder, CO, and another .csv file containing monthly precipitation for Boulder, CO in 2002 and 2013."
   ]
  },
  {
   "cell_type": "code",
   "execution_count": 3,
   "metadata": {},
   "outputs": [
    {
     "name": "stdout",
     "output_type": "stream",
     "text": [
      "datasets downloaded successfully\n"
     ]
    }
   ],
   "source": [
    "# use `urllib` download files from Earth Lab figshare repository\n",
    "\n",
    "# download .csv containing monthly average precipitation for Boulder, CO\n",
    "urllib.request.urlretrieve(url = \"https://ndownloader.figshare.com/files/12710618\", \n",
    "                           filename = \"data/avg-precip-months-seasons.csv\")\n",
    "\n",
    "# download .csv containing monthly precipitation for Boulder, CO in 2002 and 2013\n",
    "urllib.request.urlretrieve(url = \"https://ndownloader.figshare.com/files/12710621\", \n",
    "                           filename = \"data/precip-2002-2013-months-seasons.csv\")\n",
    "\n",
    "# print message that data downloads were successful\n",
    "print(\"datasets downloaded successfully\")"
   ]
  },
  {
   "cell_type": "markdown",
   "metadata": {},
   "source": [
    "### Import Tabular Data Into Pandas Dataframes\n",
    "\n",
    "You also learned how to import CSV files into `pandas dataframes`."
   ]
  },
  {
   "cell_type": "code",
   "execution_count": 5,
   "metadata": {},
   "outputs": [],
   "source": [
    "# import the monthly average precipitation values as a pandas dataframe\n",
    "avg_precip = pd.read_csv(\"C:/Users/jd/earth-analytics-bootcamp/data/avg-precip-months-seasons.csv\")\n",
    "\n",
    "# import the monthly precipitation values in 2002 and 2013 as a pandas dataframe\n",
    "precip_2002_2013 = pd.read_csv(\"C:/users/jd/earth-analytics-bootcamp/data/precip-2002-2013-months-seasons.csv\")"
   ]
  },
  {
   "cell_type": "markdown",
   "metadata": {},
   "source": [
    "## View Contents of Pandas Dataframes\n",
    "\n",
    "Rather than seeing all of the data at once, you can choose to see the first few rows or the last few rows using the `pandas dataframe` methods `.head()` or `.tail()` (e.g. `dataframe.tail()`). \n",
    "\n",
    "This capability can be very useful for large datasets which cannot easily be displayed within `Jupyter Notebook`. "
   ]
  },
  {
   "cell_type": "code",
   "execution_count": 6,
   "metadata": {},
   "outputs": [
    {
     "data": {
      "text/html": [
       "<div>\n",
       "<style scoped>\n",
       "    .dataframe tbody tr th:only-of-type {\n",
       "        vertical-align: middle;\n",
       "    }\n",
       "\n",
       "    .dataframe tbody tr th {\n",
       "        vertical-align: top;\n",
       "    }\n",
       "\n",
       "    .dataframe thead th {\n",
       "        text-align: right;\n",
       "    }\n",
       "</style>\n",
       "<table border=\"1\" class=\"dataframe\">\n",
       "  <thead>\n",
       "    <tr style=\"text-align: right;\">\n",
       "      <th></th>\n",
       "      <th>months</th>\n",
       "      <th>precip</th>\n",
       "      <th>seasons</th>\n",
       "    </tr>\n",
       "  </thead>\n",
       "  <tbody>\n",
       "    <tr>\n",
       "      <th>0</th>\n",
       "      <td>Jan</td>\n",
       "      <td>0.70</td>\n",
       "      <td>Winter</td>\n",
       "    </tr>\n",
       "    <tr>\n",
       "      <th>1</th>\n",
       "      <td>Feb</td>\n",
       "      <td>0.75</td>\n",
       "      <td>Winter</td>\n",
       "    </tr>\n",
       "    <tr>\n",
       "      <th>2</th>\n",
       "      <td>Mar</td>\n",
       "      <td>1.85</td>\n",
       "      <td>Spring</td>\n",
       "    </tr>\n",
       "    <tr>\n",
       "      <th>3</th>\n",
       "      <td>Apr</td>\n",
       "      <td>2.93</td>\n",
       "      <td>Spring</td>\n",
       "    </tr>\n",
       "    <tr>\n",
       "      <th>4</th>\n",
       "      <td>May</td>\n",
       "      <td>3.05</td>\n",
       "      <td>Spring</td>\n",
       "    </tr>\n",
       "  </tbody>\n",
       "</table>\n",
       "</div>"
      ],
      "text/plain": [
       "  months  precip seasons\n",
       "0    Jan    0.70  Winter\n",
       "1    Feb    0.75  Winter\n",
       "2    Mar    1.85  Spring\n",
       "3    Apr    2.93  Spring\n",
       "4    May    3.05  Spring"
      ]
     },
     "execution_count": 6,
     "metadata": {},
     "output_type": "execute_result"
    }
   ],
   "source": [
    "# check the first few rows in `avg_precip`\n",
    "avg_precip.head()"
   ]
  },
  {
   "cell_type": "markdown",
   "metadata": {},
   "source": [
    "## Describe Contents of Pandas Dataframes\n",
    "\n",
    "You can use the method `.info()` to get more details, or metadata, about a `pandas dataframe` (e.g. `dataframe.info()`) such as the number of rows and columns and the column names. "
   ]
  },
  {
   "cell_type": "code",
   "execution_count": 7,
   "metadata": {},
   "outputs": [
    {
     "name": "stdout",
     "output_type": "stream",
     "text": [
      "<class 'pandas.core.frame.DataFrame'>\n",
      "RangeIndex: 12 entries, 0 to 11\n",
      "Data columns (total 3 columns):\n",
      "months     12 non-null object\n",
      "precip     12 non-null float64\n",
      "seasons    12 non-null object\n",
      "dtypes: float64(1), object(2)\n",
      "memory usage: 416.0+ bytes\n"
     ]
    }
   ],
   "source": [
    "# check the metadata about `avg_precip`\n",
    "avg_precip.info()"
   ]
  },
  {
   "cell_type": "markdown",
   "metadata": {},
   "source": [
    "The output of the `.info()` method shows you the number of rows (or entries) and the number of columns, as well as the columns names and the types of data they contain (e.g. float64 which is the default decimal type in `Python`).\n",
    "\n",
    "You can use other methods to produce summarized results about data values contained within the `pandas dataframes`.\n",
    "\n",
    "For example, you can use the method `.describe()` to run summary statistics about the numeric columns in `pandas dataframe` (e.g. `dataframe.describe()`), such as the count, mean, minimum and maximum values. "
   ]
  },
  {
   "cell_type": "code",
   "execution_count": 8,
   "metadata": {},
   "outputs": [
    {
     "data": {
      "text/html": [
       "<div>\n",
       "<style scoped>\n",
       "    .dataframe tbody tr th:only-of-type {\n",
       "        vertical-align: middle;\n",
       "    }\n",
       "\n",
       "    .dataframe tbody tr th {\n",
       "        vertical-align: top;\n",
       "    }\n",
       "\n",
       "    .dataframe thead th {\n",
       "        text-align: right;\n",
       "    }\n",
       "</style>\n",
       "<table border=\"1\" class=\"dataframe\">\n",
       "  <thead>\n",
       "    <tr style=\"text-align: right;\">\n",
       "      <th></th>\n",
       "      <th>precip</th>\n",
       "    </tr>\n",
       "  </thead>\n",
       "  <tbody>\n",
       "    <tr>\n",
       "      <th>count</th>\n",
       "      <td>12.000000</td>\n",
       "    </tr>\n",
       "    <tr>\n",
       "      <th>mean</th>\n",
       "      <td>1.685833</td>\n",
       "    </tr>\n",
       "    <tr>\n",
       "      <th>std</th>\n",
       "      <td>0.764383</td>\n",
       "    </tr>\n",
       "    <tr>\n",
       "      <th>min</th>\n",
       "      <td>0.700000</td>\n",
       "    </tr>\n",
       "    <tr>\n",
       "      <th>25%</th>\n",
       "      <td>1.192500</td>\n",
       "    </tr>\n",
       "    <tr>\n",
       "      <th>50%</th>\n",
       "      <td>1.730000</td>\n",
       "    </tr>\n",
       "    <tr>\n",
       "      <th>75%</th>\n",
       "      <td>1.952500</td>\n",
       "    </tr>\n",
       "    <tr>\n",
       "      <th>max</th>\n",
       "      <td>3.050000</td>\n",
       "    </tr>\n",
       "  </tbody>\n",
       "</table>\n",
       "</div>"
      ],
      "text/plain": [
       "          precip\n",
       "count  12.000000\n",
       "mean    1.685833\n",
       "std     0.764383\n",
       "min     0.700000\n",
       "25%     1.192500\n",
       "50%     1.730000\n",
       "75%     1.952500\n",
       "max     3.050000"
      ]
     },
     "execution_count": 8,
     "metadata": {},
     "output_type": "execute_result"
    }
   ],
   "source": [
    "# run summary statistics on `avg_precip`\n",
    "avg_precip.describe()"
   ]
  },
  {
   "cell_type": "markdown",
   "metadata": {},
   "source": [
    "Recall that in the lessons on `numpy arrays`, you ran multiple functions to get the mean, minimum and maximum values of `numpy arrays`. This fast calculation of summary statistics is a clear benefit of using `pandas dataframes` over `numpy arrays`.\n",
    "\n",
    "The `.describe()` method also provides the standard deviation (i.e. a measure of the amount of variation across the data) as well as the quantiles of the `pandas dataframe`, which tell us how the data are distributed between the minimum and maximum values (e.g. the 25% quantile indicates the cut-off for the lowest 25% values in the data).\n",
    "\n",
    "## Sort Data Values in Pandas Dataframes\n",
    "\n",
    "Recall that in the lessons on `numpy arrays`, you can only identify the value that is the minimum or maximum, but not the month in which the value occurred. This is because `precip` and `months` are not connected in an easy way that would allow you to determine the month that matches the values. \n",
    "\n",
    "Using `pandas dataframes`, you can sort the values with the method `.sort_values()`, providing the column name and a parameter for `ascending` (e.g. `dataframe.sort_values(by=\"columname\", ascending = True)`). \n",
    "\n",
    "Sort by the values in the `precip` column in descending order (`ascending = False`) to find the maximum value and its corresponding month. "
   ]
  },
  {
   "cell_type": "code",
   "execution_count": 9,
   "metadata": {},
   "outputs": [
    {
     "data": {
      "text/html": [
       "<div>\n",
       "<style scoped>\n",
       "    .dataframe tbody tr th:only-of-type {\n",
       "        vertical-align: middle;\n",
       "    }\n",
       "\n",
       "    .dataframe tbody tr th {\n",
       "        vertical-align: top;\n",
       "    }\n",
       "\n",
       "    .dataframe thead th {\n",
       "        text-align: right;\n",
       "    }\n",
       "</style>\n",
       "<table border=\"1\" class=\"dataframe\">\n",
       "  <thead>\n",
       "    <tr style=\"text-align: right;\">\n",
       "      <th></th>\n",
       "      <th>months</th>\n",
       "      <th>precip</th>\n",
       "      <th>seasons</th>\n",
       "    </tr>\n",
       "  </thead>\n",
       "  <tbody>\n",
       "    <tr>\n",
       "      <th>4</th>\n",
       "      <td>May</td>\n",
       "      <td>3.05</td>\n",
       "      <td>Spring</td>\n",
       "    </tr>\n",
       "    <tr>\n",
       "      <th>3</th>\n",
       "      <td>Apr</td>\n",
       "      <td>2.93</td>\n",
       "      <td>Spring</td>\n",
       "    </tr>\n",
       "    <tr>\n",
       "      <th>5</th>\n",
       "      <td>June</td>\n",
       "      <td>2.02</td>\n",
       "      <td>Summer</td>\n",
       "    </tr>\n",
       "    <tr>\n",
       "      <th>6</th>\n",
       "      <td>July</td>\n",
       "      <td>1.93</td>\n",
       "      <td>Summer</td>\n",
       "    </tr>\n",
       "    <tr>\n",
       "      <th>2</th>\n",
       "      <td>Mar</td>\n",
       "      <td>1.85</td>\n",
       "      <td>Spring</td>\n",
       "    </tr>\n",
       "    <tr>\n",
       "      <th>8</th>\n",
       "      <td>Sept</td>\n",
       "      <td>1.84</td>\n",
       "      <td>Fall</td>\n",
       "    </tr>\n",
       "    <tr>\n",
       "      <th>7</th>\n",
       "      <td>Aug</td>\n",
       "      <td>1.62</td>\n",
       "      <td>Summer</td>\n",
       "    </tr>\n",
       "    <tr>\n",
       "      <th>10</th>\n",
       "      <td>Nov</td>\n",
       "      <td>1.39</td>\n",
       "      <td>Fall</td>\n",
       "    </tr>\n",
       "    <tr>\n",
       "      <th>9</th>\n",
       "      <td>Oct</td>\n",
       "      <td>1.31</td>\n",
       "      <td>Fall</td>\n",
       "    </tr>\n",
       "    <tr>\n",
       "      <th>11</th>\n",
       "      <td>Dec</td>\n",
       "      <td>0.84</td>\n",
       "      <td>Winter</td>\n",
       "    </tr>\n",
       "    <tr>\n",
       "      <th>1</th>\n",
       "      <td>Feb</td>\n",
       "      <td>0.75</td>\n",
       "      <td>Winter</td>\n",
       "    </tr>\n",
       "    <tr>\n",
       "      <th>0</th>\n",
       "      <td>Jan</td>\n",
       "      <td>0.70</td>\n",
       "      <td>Winter</td>\n",
       "    </tr>\n",
       "  </tbody>\n",
       "</table>\n",
       "</div>"
      ],
      "text/plain": [
       "   months  precip seasons\n",
       "4     May    3.05  Spring\n",
       "3     Apr    2.93  Spring\n",
       "5    June    2.02  Summer\n",
       "6    July    1.93  Summer\n",
       "2     Mar    1.85  Spring\n",
       "8    Sept    1.84    Fall\n",
       "7     Aug    1.62  Summer\n",
       "10    Nov    1.39    Fall\n",
       "9     Oct    1.31    Fall\n",
       "11    Dec    0.84  Winter\n",
       "1     Feb    0.75  Winter\n",
       "0     Jan    0.70  Winter"
      ]
     },
     "execution_count": 9,
     "metadata": {},
     "output_type": "execute_result"
    }
   ],
   "source": [
    "# sort values in descending order to identify the month with maximum value for `precip` within `precip_df`\n",
    "avg_precip.sort_values(by=\"precip\", ascending = False)"
   ]
  },
  {
   "cell_type": "markdown",
   "metadata": {},
   "source": [
    "## Run Calculations on Columns Within Pandas Dataframes\n",
    "\n",
    "You can easily recalculate the values of a column within a `pandas dataframe` setting the column equal to the result of the desired calculation (e.g. `dataframe.column = dataframe.column + 4`, which would add the number 4 to each value in the column).\n",
    "\n",
    "You can use this capability to easily convert the values in the `precip` column from inches to millimeters (where one inch is equal to 25.4 millimeters). "
   ]
  },
  {
   "cell_type": "code",
   "execution_count": 10,
   "metadata": {},
   "outputs": [
    {
     "data": {
      "text/html": [
       "<div>\n",
       "<style scoped>\n",
       "    .dataframe tbody tr th:only-of-type {\n",
       "        vertical-align: middle;\n",
       "    }\n",
       "\n",
       "    .dataframe tbody tr th {\n",
       "        vertical-align: top;\n",
       "    }\n",
       "\n",
       "    .dataframe thead th {\n",
       "        text-align: right;\n",
       "    }\n",
       "</style>\n",
       "<table border=\"1\" class=\"dataframe\">\n",
       "  <thead>\n",
       "    <tr style=\"text-align: right;\">\n",
       "      <th></th>\n",
       "      <th>months</th>\n",
       "      <th>precip</th>\n",
       "      <th>seasons</th>\n",
       "    </tr>\n",
       "  </thead>\n",
       "  <tbody>\n",
       "    <tr>\n",
       "      <th>0</th>\n",
       "      <td>Jan</td>\n",
       "      <td>17.780</td>\n",
       "      <td>Winter</td>\n",
       "    </tr>\n",
       "    <tr>\n",
       "      <th>1</th>\n",
       "      <td>Feb</td>\n",
       "      <td>19.050</td>\n",
       "      <td>Winter</td>\n",
       "    </tr>\n",
       "    <tr>\n",
       "      <th>2</th>\n",
       "      <td>Mar</td>\n",
       "      <td>46.990</td>\n",
       "      <td>Spring</td>\n",
       "    </tr>\n",
       "    <tr>\n",
       "      <th>3</th>\n",
       "      <td>Apr</td>\n",
       "      <td>74.422</td>\n",
       "      <td>Spring</td>\n",
       "    </tr>\n",
       "    <tr>\n",
       "      <th>4</th>\n",
       "      <td>May</td>\n",
       "      <td>77.470</td>\n",
       "      <td>Spring</td>\n",
       "    </tr>\n",
       "    <tr>\n",
       "      <th>5</th>\n",
       "      <td>June</td>\n",
       "      <td>51.308</td>\n",
       "      <td>Summer</td>\n",
       "    </tr>\n",
       "    <tr>\n",
       "      <th>6</th>\n",
       "      <td>July</td>\n",
       "      <td>49.022</td>\n",
       "      <td>Summer</td>\n",
       "    </tr>\n",
       "    <tr>\n",
       "      <th>7</th>\n",
       "      <td>Aug</td>\n",
       "      <td>41.148</td>\n",
       "      <td>Summer</td>\n",
       "    </tr>\n",
       "    <tr>\n",
       "      <th>8</th>\n",
       "      <td>Sept</td>\n",
       "      <td>46.736</td>\n",
       "      <td>Fall</td>\n",
       "    </tr>\n",
       "    <tr>\n",
       "      <th>9</th>\n",
       "      <td>Oct</td>\n",
       "      <td>33.274</td>\n",
       "      <td>Fall</td>\n",
       "    </tr>\n",
       "    <tr>\n",
       "      <th>10</th>\n",
       "      <td>Nov</td>\n",
       "      <td>35.306</td>\n",
       "      <td>Fall</td>\n",
       "    </tr>\n",
       "    <tr>\n",
       "      <th>11</th>\n",
       "      <td>Dec</td>\n",
       "      <td>21.336</td>\n",
       "      <td>Winter</td>\n",
       "    </tr>\n",
       "  </tbody>\n",
       "</table>\n",
       "</div>"
      ],
      "text/plain": [
       "   months  precip seasons\n",
       "0     Jan  17.780  Winter\n",
       "1     Feb  19.050  Winter\n",
       "2     Mar  46.990  Spring\n",
       "3     Apr  74.422  Spring\n",
       "4     May  77.470  Spring\n",
       "5    June  51.308  Summer\n",
       "6    July  49.022  Summer\n",
       "7     Aug  41.148  Summer\n",
       "8    Sept  46.736    Fall\n",
       "9     Oct  33.274    Fall\n",
       "10    Nov  35.306    Fall\n",
       "11    Dec  21.336  Winter"
      ]
     },
     "execution_count": 10,
     "metadata": {},
     "output_type": "execute_result"
    }
   ],
   "source": [
    "# multiply the values in `precip` column to convert from inches to millimeters\n",
    "avg_precip.precip = avg_precip.precip * 25.4\n",
    "\n",
    "# print the values in `avg_precip`\n",
    "avg_precip"
   ]
  },
  {
   "cell_type": "markdown",
   "metadata": {},
   "source": [
    "## Plot Pandas Dataframes\n",
    "\n",
    "In the previous lessons, you saw that it is easy to use multiple `numpy arrays` within the same plot but you have to make sure that the dimensions of the `numpy arrays` are compatible. \n",
    "\n",
    "`Pandas dataframes` make it even easier to plot the data because the tabular structure is already built-in. \n",
    "\n",
    "In fact, you do not have to create any new variables to plot data from `pandas dataframes`.\n",
    "\n",
    "You can simply reuse your `matplotlib.pyplot` code from the `numpy arrays` lesson, using the dataframe and column names to plot data (e.g. `dataframe.column`) along each axis. "
   ]
  },
  {
   "cell_type": "code",
   "execution_count": 11,
   "metadata": {
    "caption": "This plot displays a bar plot created from a pandas dataframe for average monthly precipitation for Boulder, CO.",
    "label": "fig:barplot_pandas"
   },
   "outputs": [
    {
     "data": {
      "image/png": "[encoded data removed]",
      "text/plain": [
       "<Figure size 576x576 with 1 Axes>"
      ]
     },
     "metadata": {
      "needs_background": "light"
     },
     "output_type": "display_data"
    }
   ],
   "source": [
    "# set plot size for all plots that follow\n",
    "plt.rcParams[\"figure.figsize\"] = (8, 8)\n",
    "\n",
    "# create the plot space upon which to plot the data\n",
    "fig, ax = plt.subplots()\n",
    "\n",
    "# add the x-axis and the y-axis to the plot\n",
    "ax.bar(avg_precip.months, avg_precip.precip, color=\"grey\")\n",
    "\n",
    "# set plot title\n",
    "ax.set(title=\"Average Monthly Precipitation in Boulder, CO\")\n",
    "\n",
    "# add labels to the axes\n",
    "ax.set(xlabel=\"Month\", ylabel=\"Precipitation (mm)\");"
   ]
  },
  {
   "cell_type": "markdown",
   "metadata": {},
   "source": [
    "Congratulations! You have now learned how to run methods and query attributes of `pandas dataframes`. You also recalculated values and created plots from `pandas dataframes`."
   ]
  },
  {
   "cell_type": "markdown",
   "metadata": {},
   "source": [
    "## Optional Challenge 1\n",
    "\n",
    "Test your `Python` skills to:\n",
    "\n",
    "1. Convert the `precip_2002` column in `precip_2002_2013` to millimeters (one inch = 25.4 millimeters).\n",
    "\n",
    "2. Create a **blue line plot** of monthly precipitation for Boulder, CO in 2002. \n",
    "    * Be sure to include a title and labels for the axes. \n",
    "    * If needed, refer to the lesson on Plot Data in Python with Matplotlib."
   ]
  },
  {
   "cell_type": "code",
   "execution_count": 14,
   "metadata": {},
   "outputs": [
    {
     "data": {
      "text/html": [
       "<div>\n",
       "<style scoped>\n",
       "    .dataframe tbody tr th:only-of-type {\n",
       "        vertical-align: middle;\n",
       "    }\n",
       "\n",
       "    .dataframe tbody tr th {\n",
       "        vertical-align: top;\n",
       "    }\n",
       "\n",
       "    .dataframe thead th {\n",
       "        text-align: right;\n",
       "    }\n",
       "</style>\n",
       "<table border=\"1\" class=\"dataframe\">\n",
       "  <thead>\n",
       "    <tr style=\"text-align: right;\">\n",
       "      <th></th>\n",
       "      <th>months</th>\n",
       "      <th>precip_2002</th>\n",
       "      <th>precip_2013</th>\n",
       "      <th>seasons</th>\n",
       "    </tr>\n",
       "  </thead>\n",
       "  <tbody>\n",
       "    <tr>\n",
       "      <th>0</th>\n",
       "      <td>Jan</td>\n",
       "      <td>27.178</td>\n",
       "      <td>0.27</td>\n",
       "      <td>Winter</td>\n",
       "    </tr>\n",
       "    <tr>\n",
       "      <th>1</th>\n",
       "      <td>Feb</td>\n",
       "      <td>11.176</td>\n",
       "      <td>1.13</td>\n",
       "      <td>Winter</td>\n",
       "    </tr>\n",
       "    <tr>\n",
       "      <th>2</th>\n",
       "      <td>Mar</td>\n",
       "      <td>38.100</td>\n",
       "      <td>1.72</td>\n",
       "      <td>Spring</td>\n",
       "    </tr>\n",
       "    <tr>\n",
       "      <th>3</th>\n",
       "      <td>Apr</td>\n",
       "      <td>5.080</td>\n",
       "      <td>4.14</td>\n",
       "      <td>Spring</td>\n",
       "    </tr>\n",
       "    <tr>\n",
       "      <th>4</th>\n",
       "      <td>May</td>\n",
       "      <td>81.280</td>\n",
       "      <td>2.66</td>\n",
       "      <td>Spring</td>\n",
       "    </tr>\n",
       "    <tr>\n",
       "      <th>5</th>\n",
       "      <td>June</td>\n",
       "      <td>29.972</td>\n",
       "      <td>0.61</td>\n",
       "      <td>Summer</td>\n",
       "    </tr>\n",
       "    <tr>\n",
       "      <th>6</th>\n",
       "      <td>July</td>\n",
       "      <td>2.286</td>\n",
       "      <td>1.03</td>\n",
       "      <td>Summer</td>\n",
       "    </tr>\n",
       "    <tr>\n",
       "      <th>7</th>\n",
       "      <td>Aug</td>\n",
       "      <td>36.576</td>\n",
       "      <td>1.40</td>\n",
       "      <td>Summer</td>\n",
       "    </tr>\n",
       "    <tr>\n",
       "      <th>8</th>\n",
       "      <td>Sept</td>\n",
       "      <td>38.608</td>\n",
       "      <td>18.16</td>\n",
       "      <td>Fall</td>\n",
       "    </tr>\n",
       "    <tr>\n",
       "      <th>9</th>\n",
       "      <td>Oct</td>\n",
       "      <td>61.976</td>\n",
       "      <td>2.24</td>\n",
       "      <td>Fall</td>\n",
       "    </tr>\n",
       "    <tr>\n",
       "      <th>10</th>\n",
       "      <td>Nov</td>\n",
       "      <td>19.812</td>\n",
       "      <td>0.29</td>\n",
       "      <td>Fall</td>\n",
       "    </tr>\n",
       "    <tr>\n",
       "      <th>11</th>\n",
       "      <td>Dec</td>\n",
       "      <td>0.508</td>\n",
       "      <td>0.50</td>\n",
       "      <td>Winter</td>\n",
       "    </tr>\n",
       "  </tbody>\n",
       "</table>\n",
       "</div>"
      ],
      "text/plain": [
       "   months  precip_2002  precip_2013 seasons\n",
       "0     Jan       27.178         0.27  Winter\n",
       "1     Feb       11.176         1.13  Winter\n",
       "2     Mar       38.100         1.72  Spring\n",
       "3     Apr        5.080         4.14  Spring\n",
       "4     May       81.280         2.66  Spring\n",
       "5    June       29.972         0.61  Summer\n",
       "6    July        2.286         1.03  Summer\n",
       "7     Aug       36.576         1.40  Summer\n",
       "8    Sept       38.608        18.16    Fall\n",
       "9     Oct       61.976         2.24    Fall\n",
       "10    Nov       19.812         0.29    Fall\n",
       "11    Dec        0.508         0.50  Winter"
      ]
     },
     "execution_count": 14,
     "metadata": {},
     "output_type": "execute_result"
    }
   ],
   "source": [
    "# Convert the precip_2002 column in precip_2002_2013 to millimeters (one inch = 25.4 millimeters).\n",
    "precip_2002_2013.precip_2002 = precip_2002_2013.precip_2002 * 25.4\n",
    "\n",
    "precip_2002_2013"
   ]
  },
  {
   "cell_type": "code",
   "execution_count": 15,
   "metadata": {},
   "outputs": [
    {
     "data": {
      "image/png": "[encoded data removed]",
      "text/plain": [
       "<Figure size 576x576 with 1 Axes>"
      ]
     },
     "metadata": {
      "needs_background": "light"
     },
     "output_type": "display_data"
    }
   ],
   "source": [
    "# Create a blue line plot of monthly precipitation for Boulder, CO in 2002.\n",
    "# Be sure to include a title and labels for the axes.\n",
    "\n",
    "# set plot size for all plots that follow\n",
    "plt.rcParams[\"figure.figsize\"] = (8, 8)\n",
    "\n",
    "# create the plot space upon which to plot the data\n",
    "fig, ax = plt.subplots()\n",
    "\n",
    "# add the x-axis and the y-axis to the plot\n",
    "ax.bar(precip_2002_2013.months, precip_2002_2013.precip_2002, color=\"blue\")\n",
    "\n",
    "# set plot title\n",
    "ax.set(title=\"Monthly Precipitation for Boulder, CO, in 2002\")\n",
    "\n",
    "# add labels to the axes\n",
    "ax.set(xlabel=\"Month\", ylabel=\"Precipitation (mm)\");"
   ]
  },
  {
   "cell_type": "markdown",
   "metadata": {},
   "source": [
    "## Optional Challenge 2\n",
    "\n",
    "Test your `Python` skills to:\n",
    "\n",
    "1. Convert the `precip_2013` column in `precip_2002_2013` to millimeters (one inch = 25.4 millimeters).\n",
    "\n",
    "2. Create a **blue scatter plot** of monthly precipitation for Boulder, CO in 2013. \n",
    "    * Be sure to include a title and labels for the axes. \n",
    "\n",
    "3. Compare your plot for 2013 to the one for 2002. \n",
    "    * Does the maximum precipitation occur in the same month? \n",
    "    * What do you notice about the y-axis of the 2013, as compared to the 2002 plot?"
   ]
  },
  {
   "cell_type": "code",
   "execution_count": 16,
   "metadata": {},
   "outputs": [
    {
     "data": {
      "text/html": [
       "<div>\n",
       "<style scoped>\n",
       "    .dataframe tbody tr th:only-of-type {\n",
       "        vertical-align: middle;\n",
       "    }\n",
       "\n",
       "    .dataframe tbody tr th {\n",
       "        vertical-align: top;\n",
       "    }\n",
       "\n",
       "    .dataframe thead th {\n",
       "        text-align: right;\n",
       "    }\n",
       "</style>\n",
       "<table border=\"1\" class=\"dataframe\">\n",
       "  <thead>\n",
       "    <tr style=\"text-align: right;\">\n",
       "      <th></th>\n",
       "      <th>months</th>\n",
       "      <th>precip_2002</th>\n",
       "      <th>precip_2013</th>\n",
       "      <th>seasons</th>\n",
       "    </tr>\n",
       "  </thead>\n",
       "  <tbody>\n",
       "    <tr>\n",
       "      <th>0</th>\n",
       "      <td>Jan</td>\n",
       "      <td>27.178</td>\n",
       "      <td>6.858</td>\n",
       "      <td>Winter</td>\n",
       "    </tr>\n",
       "    <tr>\n",
       "      <th>1</th>\n",
       "      <td>Feb</td>\n",
       "      <td>11.176</td>\n",
       "      <td>28.702</td>\n",
       "      <td>Winter</td>\n",
       "    </tr>\n",
       "    <tr>\n",
       "      <th>2</th>\n",
       "      <td>Mar</td>\n",
       "      <td>38.100</td>\n",
       "      <td>43.688</td>\n",
       "      <td>Spring</td>\n",
       "    </tr>\n",
       "    <tr>\n",
       "      <th>3</th>\n",
       "      <td>Apr</td>\n",
       "      <td>5.080</td>\n",
       "      <td>105.156</td>\n",
       "      <td>Spring</td>\n",
       "    </tr>\n",
       "    <tr>\n",
       "      <th>4</th>\n",
       "      <td>May</td>\n",
       "      <td>81.280</td>\n",
       "      <td>67.564</td>\n",
       "      <td>Spring</td>\n",
       "    </tr>\n",
       "    <tr>\n",
       "      <th>5</th>\n",
       "      <td>June</td>\n",
       "      <td>29.972</td>\n",
       "      <td>15.494</td>\n",
       "      <td>Summer</td>\n",
       "    </tr>\n",
       "    <tr>\n",
       "      <th>6</th>\n",
       "      <td>July</td>\n",
       "      <td>2.286</td>\n",
       "      <td>26.162</td>\n",
       "      <td>Summer</td>\n",
       "    </tr>\n",
       "    <tr>\n",
       "      <th>7</th>\n",
       "      <td>Aug</td>\n",
       "      <td>36.576</td>\n",
       "      <td>35.560</td>\n",
       "      <td>Summer</td>\n",
       "    </tr>\n",
       "    <tr>\n",
       "      <th>8</th>\n",
       "      <td>Sept</td>\n",
       "      <td>38.608</td>\n",
       "      <td>461.264</td>\n",
       "      <td>Fall</td>\n",
       "    </tr>\n",
       "    <tr>\n",
       "      <th>9</th>\n",
       "      <td>Oct</td>\n",
       "      <td>61.976</td>\n",
       "      <td>56.896</td>\n",
       "      <td>Fall</td>\n",
       "    </tr>\n",
       "    <tr>\n",
       "      <th>10</th>\n",
       "      <td>Nov</td>\n",
       "      <td>19.812</td>\n",
       "      <td>7.366</td>\n",
       "      <td>Fall</td>\n",
       "    </tr>\n",
       "    <tr>\n",
       "      <th>11</th>\n",
       "      <td>Dec</td>\n",
       "      <td>0.508</td>\n",
       "      <td>12.700</td>\n",
       "      <td>Winter</td>\n",
       "    </tr>\n",
       "  </tbody>\n",
       "</table>\n",
       "</div>"
      ],
      "text/plain": [
       "   months  precip_2002  precip_2013 seasons\n",
       "0     Jan       27.178        6.858  Winter\n",
       "1     Feb       11.176       28.702  Winter\n",
       "2     Mar       38.100       43.688  Spring\n",
       "3     Apr        5.080      105.156  Spring\n",
       "4     May       81.280       67.564  Spring\n",
       "5    June       29.972       15.494  Summer\n",
       "6    July        2.286       26.162  Summer\n",
       "7     Aug       36.576       35.560  Summer\n",
       "8    Sept       38.608      461.264    Fall\n",
       "9     Oct       61.976       56.896    Fall\n",
       "10    Nov       19.812        7.366    Fall\n",
       "11    Dec        0.508       12.700  Winter"
      ]
     },
     "execution_count": 16,
     "metadata": {},
     "output_type": "execute_result"
    }
   ],
   "source": [
    "# Convert the precip_2013 column in precip_2002_2013 to millimeters (one inch = 25.4 millimeters).\n",
    "precip_2002_2013.precip_2013 = precip_2002_2013.precip_2013 * 25.4\n",
    "\n",
    "precip_2002_2013\n"
   ]
  },
  {
   "cell_type": "code",
   "execution_count": 17,
   "metadata": {},
   "outputs": [
    {
     "data": {
      "image/png": "[encoded data removed]",
      "text/plain": [
       "<Figure size 576x576 with 1 Axes>"
      ]
     },
     "metadata": {
      "needs_background": "light"
     },
     "output_type": "display_data"
    }
   ],
   "source": [
    "# Create a blue scatter plot of monthly precipitation for Boulder, CO in 2013.\n",
    "# Be sure to include a title and labels for the axes.\n",
    "\n",
    "# set plot size for all plots that follow\n",
    "plt.rcParams[\"figure.figsize\"] = (8, 8)\n",
    "\n",
    "# create the plot space upon which to plot the data\n",
    "fig, ax = plt.subplots()\n",
    "\n",
    "# add the x-axis and the y-axis to the plot\n",
    "ax.bar(precip_2002_2013.months, precip_2002_2013.precip_2013, color=\"blue\")\n",
    "\n",
    "# set plot title\n",
    "ax.set(title=\"Monthly Precipitation for Boulder, CO, in 2013\")\n",
    "\n",
    "# add labels to the axes\n",
    "ax.set(xlabel=\"Month\", ylabel=\"Precipitation (mm)\");\n",
    "# Be sure to include a title and labels for the axes.\n"
   ]
  },
  {
   "cell_type": "markdown",
   "metadata": {},
   "source": [
    "#### Compare your plot for 2013 to the one for 2002.\n",
    "    Precipitation in two months of 2013 exceeded the 2002's maximum monthly precipitation.\n",
    "#### Does the maximum precipitation occur in the same month?\n",
    "    While the maximum precipitation for 2002 occurred in the month of May, maximum precipitation for 2013 occurred in the month of September.\n",
    "#### What do you notice about the y-axis of the 2013, as compared to the 2002 plot?\n",
    "    The y-axis for 2013 is scaled 5 - times that of 2002, to enable the plot to accommodate the significant increase in maximum monthly precipitation."
   ]
  }
 ],
 "metadata": {
  "celltoolbar": "Edit Metadata",
  "kernelspec": {
   "display_name": "Python 3",
   "language": "python",
   "name": "python3"
  },
  "language_info": {
   "codemirror_mode": {
    "name": "ipython",
    "version": 3
   },
   "file_extension": ".py",
   "mimetype": "text/x-python",
   "name": "python",
   "nbconvert_exporter": "python",
   "pygments_lexer": "ipython3",
   "version": "3.7.4"
  }
 },
 "nbformat": 4,
 "nbformat_minor": 2
}
